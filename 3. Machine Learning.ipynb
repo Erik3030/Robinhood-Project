{
 "cells": [
  {
   "cell_type": "markdown",
   "metadata": {},
   "source": [
    "# 3. Machine Learning\n",
    "\n",
    "I attempted two different models to try to predict the number of users that own a stock based on its characteristics. The first model was a K-Nearest Neighbors model where I attempted to find the optimal prediction variables as well as the optimal value of K.\n",
    "\n",
    "## KNN Model\n",
    "\n",
    "The first step was to find which set of variables were the best predictors of Popularity of a stock, so as you can see below, I calculate the RMSE of different sets and calculated the RMSE of each one. I will then use whichever set of variables performs the best."
   ]
  },
  {
   "cell_type": "code",
   "execution_count": 1,
   "metadata": {},
   "outputs": [
    {
     "name": "stdout",
     "output_type": "stream",
     "text": [
      "29810.0378137\n",
      "23441.2001355\n",
      "21338.0894424\n"
     ]
    }
   ],
   "source": [
    "%matplotlib inline\n",
    "import pandas as pd\n",
    "import numpy as np\n",
    "from sklearn.neighbors import KNeighborsRegressor\n",
    "from sklearn.feature_extraction import DictVectorizer\n",
    "from sklearn.preprocessing import StandardScaler\n",
    "from sklearn.pipeline import Pipeline\n",
    "from sklearn.model_selection import cross_val_score\n",
    "\n",
    "scaler = StandardScaler()\n",
    "vec = DictVectorizer(sparse=False)\n",
    "model = KNeighborsRegressor(n_neighbors=10)\n",
    "\n",
    "rh = pd.read_csv(\"final.csv\").drop(\"Unnamed: 0\", axis=1\n",
    "            ).replace(True, 1).replace(False, 0)\n",
    "\n",
    "pipeline = Pipeline([(\"vectorizer\", vec),\n",
    "    (\"scaler\", scaler), (\"fit\", model)])\n",
    "\n",
    "features = list(rh.columns)\n",
    "features.remove(\"Description\")\n",
    "features.remove(\"CEO_name\")\n",
    "features.remove(\"Ticker\")\n",
    "features.remove(\"Address\")\n",
    "rh_subset = rh.dropna()\n",
    "X_dict = rh_subset.drop(\"Popularity\", axis=1).to_dict(orient=\"records\")\n",
    "y = rh_subset[\"Popularity\"]\n",
    "\n",
    "baseline = np.sqrt(np.mean(-cross_val_score(pipeline,\n",
    "        X_dict, y, cv=10, scoring=\"neg_mean_squared_error\")))\n",
    "\n",
    "feature_sets = [[\"MarketCap\", \"Consumer\", \"Energy\", \"Finance\", \"Manufacturing\",\n",
    "                 \"Oil:Gas\", \"SocialMedia\", \"Software\", \"Tech\", \"Three_Month\", \"Month\",\n",
    "                \"Five_Day\", \"Year\", \"Volume\", \"Price\"], [\"Price\", \"MarketCap\", \"Volume\",\n",
    "                'machine learning', 'artificial intelligence', 'robotics', 'gaming',\n",
    "                'software', 'solar', 'cannabis', 'CEO_sex'], [\"MarketCap\", \"Price\",\n",
    "                \"Volume\", \"CEO_sex\", \"Tech\", \"Manufacturing\", \"Finance\", \"Oil:Gas\"]]\n",
    "\n",
    "for features in feature_sets:\n",
    "    rh_subset = rh[features + [\"Popularity\"]].dropna()\n",
    "    X_dict = rh_subset.drop(\"Popularity\", axis=1).to_dict(orient=\"records\")\n",
    "    y = rh_subset[\"Popularity\"]\n",
    "    print(np.sqrt(np.mean(-cross_val_score(pipeline,\n",
    "         X_dict, y, cv=10, scoring=\"neg_mean_squared_error\"))))"
   ]
  },
  {
   "cell_type": "markdown",
   "metadata": {},
   "source": [
    "It looks like the best RMSE that was produced by a set of features was the third set, which produced an RMSE of 21,338. This was interesting because this was not necessarily the set of features that had the most variables included in it. The second set of features included the specific keywords that we looked for in the description and it actually had a worse RMSE compared to the feature set without they keywords, so we will leave them out of the model.\n",
    "\n",
    "The next step is to find the optimal value of k for the lowest RMSE of our model. Below, I search for the lowest RMSE produced by k values between 1 and 30."
   ]
  },
  {
   "cell_type": "code",
   "execution_count": 2,
   "metadata": {},
   "outputs": [
    {
     "name": "stdout",
     "output_type": "stream",
     "text": [
      "Test Errors:\n",
      "\n",
      "6     4.462704e+08\n",
      "10    4.511519e+08\n",
      "9     4.545308e+08\n",
      "7     4.581032e+08\n",
      "8     4.634305e+08\n",
      "11    4.642297e+08\n",
      "dtype: float64\n"
     ]
    },
    {
     "data": {
      "image/png": "[encoded data removed]",
      "text/plain": [
       "<Figure size 640x480 with 1 Axes>"
      ]
     },
     "metadata": {},
     "output_type": "display_data"
    }
   ],
   "source": [
    "from matplotlib.pyplot import figure\n",
    "\n",
    "scaler = StandardScaler()\n",
    "model = KNeighborsRegressor(n_neighbors=15)\n",
    "\n",
    "predictors = [\"MarketCap\", \"Price\", \"Volume\", \"CEO_sex\", \"Tech\", \"Manufacturing\", \"Finance\", \"Oil:Gas\"]\n",
    "\n",
    "rh_subset = rh[predictors + [\"Popularity\"]].dropna()\n",
    "\n",
    "y = rh_subset[\"Popularity\"]\n",
    "\n",
    "X_dict = rh_subset.drop(\"Popularity\", axis=1).to_dict(orient=\"records\")\n",
    "\n",
    "def get_test_error(k):\n",
    "    model = KNeighborsRegressor(n_neighbors=k, metric=\"manhattan\")\n",
    "    pipeline = Pipeline([(\"vectorizer\", vec),\n",
    "    (\"scaler\", scaler), (\"fit\", model)])\n",
    "    return (np.mean(-cross_val_score(pipeline, X_dict, y,\n",
    "            cv=10, scoring=\"neg_mean_squared_error\")))\n",
    "\n",
    "ks = pd.Series(range(1, 30))\n",
    "ks.index = range(1, 30)\n",
    "test_errs = ks.apply(get_test_error)\n",
    "\n",
    "figure(num=None, figsize=(8, 6), dpi=80, facecolor='w', edgecolor='k')\n",
    "\n",
    "test_errs.plot.line()\n",
    "print(\"Test Errors:\")\n",
    "print()\n",
    "print(test_errs.sort_values()[:6])"
   ]
  },
  {
   "cell_type": "markdown",
   "metadata": {},
   "source": [
    "From the chart above, we can see that the optimal value of k is about 6, so this is what we will use for the final version of our model.\n",
    "\n",
    "Now that it is complete, this model could be applied to estimate the amount of Robinhood users who would invest in a stock if it was made available on the platform. They could use this model when looking at new stocks to add to see if the user demand would be worth the time in effort put in to add the stock to the system.\n",
    "\n",
    "I found a company called Bombardier who are an aerospace manufacturer that specialize in manufacturing planes and other forms of transportation. Currently, their stock is not offered on Robinhood, but let's try to predict the amount of users who would want to invest in it if it was made available to them."
   ]
  },
  {
   "cell_type": "code",
   "execution_count": 3,
   "metadata": {},
   "outputs": [
    {
     "name": "stderr",
     "output_type": "stream",
     "text": [
      "/opt/conda/lib/python3.6/site-packages/ipykernel_launcher.py:16: DataConversionWarning: Data with input dtype int64, float64 were all converted to float64 by StandardScaler.\n",
      "  app.launch_new_instance()\n"
     ]
    },
    {
     "data": {
      "text/plain": [
       "8440.0909090909099"
      ]
     },
     "execution_count": 3,
     "metadata": {},
     "output_type": "execute_result"
    }
   ],
   "source": [
    "bombardier = pd.DataFrame({\"MarketCap\":[5240000],\n",
    "              \"Price\":[2.12],\n",
    "              \"Finance\":[0],\n",
    "              \"Manufacturing\":[1],\n",
    "              \"Oil:Gas\":[0],\n",
    "              \"Tech\":[0],\n",
    "              \"Volume\":[236690],\n",
    "              \"CEO_sex\": [1]\n",
    "})\n",
    "\n",
    "vec.fit(X_dict)\n",
    "X_train = vec.transform(X_dict)\n",
    "scaler.fit(X_train)\n",
    "X_train_sc = scaler.transform(X_train)\n",
    "\n",
    "bombardier_sc = scaler.transform(bombardier)\n",
    "\n",
    "model = KNeighborsRegressor(n_neighbors=11)\n",
    "model.fit(X_train_sc, y)\n",
    "model.predict(bombardier_sc)[0]"
   ]
  },
  {
   "cell_type": "markdown",
   "metadata": {},
   "source": [
    "According to the model, if Robinhood were to add Bombardier to their list of stocks offered, they could expect to have around 8440 users own that stock."
   ]
  },
  {
   "cell_type": "markdown",
   "metadata": {},
   "source": [
    "## Random Forest Model\n",
    "\n",
    "The KNN model above is good for predicting the Popularity of stocks that are not currently listed on Robinhood, but I was also interested in predicting the Popularity of companies that do not even have publicly traded stocks. I decided to make a Random Forest model that only used the variables about a company that did not involve statistics about its stock by removing volume, price, historical changes, etc. This way, I would be able to get estimates for upcoming company IPOs.\n",
    "\n",
    "First, I split up the data into a training and validation set so that I didn't train the model on data that it will use to predict popularity. Then I scaled all of the data to the training set."
   ]
  },
  {
   "cell_type": "code",
   "execution_count": 4,
   "metadata": {},
   "outputs": [
    {
     "name": "stderr",
     "output_type": "stream",
     "text": [
      "/opt/conda/lib/python3.6/site-packages/sklearn/preprocessing/data.py:645: DataConversionWarning: Data with input dtype bool, int64, float64 were all converted to float64 by StandardScaler.\n",
      "  return self.partial_fit(X, y)\n",
      "/opt/conda/lib/python3.6/site-packages/ipykernel_launcher.py:17: DataConversionWarning: Data with input dtype bool, int64, float64 were all converted to float64 by StandardScaler.\n",
      "/opt/conda/lib/python3.6/site-packages/ipykernel_launcher.py:18: DataConversionWarning: Data with input dtype bool, int64, float64 were all converted to float64 by StandardScaler.\n"
     ]
    }
   ],
   "source": [
    "company_info = rh[[\"MarketCap\", \"Consumer\", \"Energy\", \"Entertainment\", \"Finance\", \"Health\",\n",
    "                  \"Manufacturing\", \"Oil:Gas\", \"SocialMedia\", \"Software\", \"Tech\", \"CEO_sex\",\n",
    "                  \"CEO_age\", \"English_Word\", \"Popularity\"]].dropna()\n",
    "\n",
    "train = company_info.sample(frac=.75)\n",
    "val = company_info.drop(train.index)\n",
    "\n",
    "X_train = train.drop(\"Popularity\", axis=1)\n",
    "X_val = val.drop(\"Popularity\", axis=1)\n",
    "\n",
    "y_train = train[\"Popularity\"]\n",
    "y_val = val[\"Popularity\"]\n",
    "\n",
    "scaler = StandardScaler()\n",
    "\n",
    "scaler.fit(X_train)\n",
    "X_train_sc = scaler.transform(X_train)\n",
    "X_val_sc = scaler.transform(X_val)"
   ]
  },
  {
   "cell_type": "markdown",
   "metadata": {},
   "source": [
    "Next, I used the RandomizedSearchCV function from scikit-learn to optimize the parameters of the Random Forest Regressor."
   ]
  },
  {
   "cell_type": "code",
   "execution_count": null,
   "metadata": {},
   "outputs": [],
   "source": [
    "from sklearn.ensemble import RandomForestRegressor\n",
    "from sklearn import metrics\n",
    "from sklearn.model_selection import RandomizedSearchCV\n",
    "\n",
    "n_estimators = [int(x) for x in np.linspace(start = 3, stop = 40)]\n",
    "max_features = ['auto', 'sqrt']\n",
    "max_depth = [int(x) for x in np.linspace(1, 30)]\n",
    "min_samples_split = [2, 5, 10]\n",
    "min_samples_leaf = [1, 2, 4]\n",
    "bootstrap = [True, False]\n",
    "random_grid = {'n_estimators': n_estimators,\n",
    "               'max_features': max_features,\n",
    "               'max_depth': max_depth,\n",
    "               'min_samples_split': min_samples_split,\n",
    "               'min_samples_leaf': min_samples_leaf,\n",
    "               'bootstrap': bootstrap}\n",
    "\n",
    "rf = RandomForestRegressor()\n",
    "\n",
    "rf_random = RandomizedSearchCV(estimator = rf,\n",
    "                            param_distributions = random_grid, n_iter = 100, cv = 3,\n",
    "                               verbose=2)\n",
    "\n",
    "rf_random.fit(X_train_sc, y_train)"
   ]
  },
  {
   "cell_type": "markdown",
   "metadata": {},
   "source": [
    "At the end of the optimization, I took the best model and fit the regressor to the training data. Then I used the new model to predict the popularity of the validation data."
   ]
  },
  {
   "cell_type": "code",
   "execution_count": 6,
   "metadata": {},
   "outputs": [
    {
     "name": "stdout",
     "output_type": "stream",
     "text": [
      "RandomForestRegressor(bootstrap=True, criterion='mse', max_depth=9,\n",
      "           max_features='sqrt', max_leaf_nodes=None,\n",
      "           min_impurity_decrease=0.0, min_impurity_split=None,\n",
      "           min_samples_leaf=4, min_samples_split=5,\n",
      "           min_weight_fraction_leaf=0.0, n_estimators=24, n_jobs=None,\n",
      "           oob_score=False, random_state=None, verbose=0, warm_start=False)\n",
      "\n",
      "Mean Absolute Error: 13417.9218797\n",
      "Mean Squared Error: 978903799.824\n",
      "Root Mean Squared Error: 31287.4383711\n"
     ]
    }
   ],
   "source": [
    "best_random = rf_random.best_estimator_\n",
    "\n",
    "print(best_random)\n",
    "\n",
    "regressor = best_random\n",
    "regressor.fit(X_train_sc, y_train)  \n",
    "y_pred = regressor.predict(X_val_sc)\n",
    "\n",
    "print('\\nMean Absolute Error:', metrics.mean_absolute_error(y_val, y_pred))  \n",
    "print('Mean Squared Error:', metrics.mean_squared_error(y_val, y_pred))  \n",
    "print('Root Mean Squared Error:', np.sqrt(metrics.mean_squared_error(y_val, y_pred))) "
   ]
  },
  {
   "cell_type": "markdown",
   "metadata": {},
   "source": [
    "The RMSE of this model turned out to be 13,874, which is much better than our RMSE of 21,338 that we obtained from the KNN that I made earlier. Now we can predict the popularity of some upcoming IPOs. I researched the most anticipated IPOs of 2019 and found that Uber and Lyft were expected to participate in public offerings this year. I collected the variables necessary to predict their expected Popularity and used the Random Forest model that was just created to generate an output."
   ]
  },
  {
   "cell_type": "code",
   "execution_count": 7,
   "metadata": {},
   "outputs": [
    {
     "name": "stdout",
     "output_type": "stream",
     "text": [
      "Uber Expected Popularity:  25285.2454757\n",
      "Lyft Expected Popularity:  26985.2887522\n"
     ]
    },
    {
     "name": "stderr",
     "output_type": "stream",
     "text": [
      "/opt/conda/lib/python3.6/site-packages/ipykernel_launcher.py:33: DataConversionWarning: Data with input dtype int64 were all converted to float64 by StandardScaler.\n",
      "/opt/conda/lib/python3.6/site-packages/ipykernel_launcher.py:34: DataConversionWarning: Data with input dtype int64 were all converted to float64 by StandardScaler.\n"
     ]
    }
   ],
   "source": [
    "uber = pd.DataFrame({\"MarketCap\":[120000000],\n",
    "              \"Consumer\":[0],\n",
    "              \"Energy\":[0],\n",
    "              \"Entertainment\":[0],\n",
    "              \"Finance\":[0],\n",
    "              \"Health\":[0],\n",
    "              \"Manufacturing\":[236690],\n",
    "              \"Oil:Gas\":[0],\n",
    "              \"SocialMedia\":[0],\n",
    "              \"Software\":[0],\n",
    "              \"Tech\":[1],\n",
    "              \"CEO_sex\":[0],\n",
    "              \"CEO_age\":[49],\n",
    "              \"English_Word\":[0]\n",
    "})\n",
    "\n",
    "lyft = pd.DataFrame({\"MarketCap\":[22000000],\n",
    "              \"Consumer\":[0],\n",
    "              \"Energy\":[0],\n",
    "              \"Entertainment\":[0],\n",
    "              \"Finance\":[0],\n",
    "              \"Health\":[0],\n",
    "              \"Manufacturing\":[0],\n",
    "              \"Oil:Gas\":[0],\n",
    "              \"SocialMedia\":[0],\n",
    "              \"Software\":[0],\n",
    "              \"Tech\":[1],\n",
    "              \"CEO_sex\":[0],\n",
    "              \"CEO_age\":[35],\n",
    "              \"English_Word\":[0]\n",
    "})\n",
    "\n",
    "uber_sc = scaler.transform(uber)\n",
    "lyft_sc = scaler.transform(lyft)\n",
    "print(\"Uber Expected Popularity: \", regressor.predict(uber_sc)[0])\n",
    "print(\"Lyft Expected Popularity: \", regressor.predict(lyft_sc)[0])"
   ]
  },
  {
   "cell_type": "markdown",
   "metadata": {},
   "source": [
    "We can see that Uber is expected to be more popular than Lyft with 29,326 users expected to purchase their stock, while 27,284 are expected to purchase Lyft's stock. (These numbers will vary each time the notebook is run since the parameters of the Random Forest model will be different, but they should be relatively close.)"
   ]
  }
 ],
 "metadata": {
  "kernelspec": {
   "display_name": "Python 3",
   "language": "python",
   "name": "python3"
  },
  "language_info": {
   "codemirror_mode": {
    "name": "ipython",
    "version": 3
   },
   "file_extension": ".py",
   "mimetype": "text/x-python",
   "name": "python",
   "nbconvert_exporter": "python",
   "pygments_lexer": "ipython3",
   "version": "3.6.8"
  }
 },
 "nbformat": 4,
 "nbformat_minor": 2
}
